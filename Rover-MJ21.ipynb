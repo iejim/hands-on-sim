{
 "metadata": {
  "language_info": {
   "codemirror_mode": {
    "name": "ipython",
    "version": 3
   },
   "file_extension": ".py",
   "mimetype": "text/x-python",
   "name": "python",
   "nbconvert_exporter": "python",
   "pygments_lexer": "ipython3",
   "version": "3.9.1"
  },
  "orig_nbformat": 2,
  "kernelspec": {
   "name": "python391jvsc74a57bd07812ea015bdcee6f23a998adcdd2ef97c151c0c241b7b7070987d9313e41299d",
   "display_name": "Python 3.9.1 64-bit ('3.9')"
  }
 },
 "nbformat": 4,
 "nbformat_minor": 2,
 "cells": [
  {
   "source": [
    "# Ejemplos de Hands-On"
   ],
   "cell_type": "markdown",
   "metadata": {}
  },
  {
   "source": [
    "Preparar un repositorio de funciones y ejemplos en CoppeliaSim que los equipos puedan usar como guía para crear sus programas. \n",
    "\n",
    "El repositorio tendrá un archivo con las funciones básicas para manejar un robot en CoppeliaSim y una carpeta con ejemplos que usan este archivo para implementar tareas básicas del robot. Asimismo, habrá una carpeta con Misiones que usan estas funciones para demostrar casos más complejos.\n",
    "\n",
    "Al concluir, deberían existir:\n",
    "1. Un (1) archivo llamado \"HandsOn-sim.lua\" con las Funciones definidas abajos\n",
    "    Este archivo será importado con el comando `require` en el script principal del robot en LUA.\n",
    "2. Una carpeta llamada \"Ejemplos\"\n",
    "    En la carpeta estarán los documentos necesarios para demostrar los ejemplos definidos abajo.\n",
    "    Los scripts de LUA en esta carpeta pudiera ser importados usando `require`, si es necesario.\n",
    "3. Una carpeta llamada \"Misiones\"\n",
    "    En la carpeta habrán documentos (scripts y/o escenas) necesarios para que alguien pueda preparar y correr las misiones definidas abajo.\n"
   ],
   "cell_type": "markdown",
   "metadata": {}
  },
  {
   "source": [
    "## Funciones\n",
    "\n",
    "Cada función hace una operación simple, ya sea respecto al robot o al hardware. \n",
    "\n",
    "El hardware es abstracto para el software. Es decir, las funciones para hacer algún movimiento (como Avanzar) no interactúan directamente con el hardware (las articulaciones, en el caso del simulador) sino a través de una función de bajo nivel que se puede modificar según las necesidades del robot. De esta manera Avanzar no tiene que saber, por ejemplo, cuántos motores usa el robot para hacerlo, ni cómo le llega el comando. \n",
    "\n",
    "Por ejemplo:"
   ],
   "cell_type": "markdown",
   "metadata": {}
  },
  {
   "source": [
    "```Lua\n",
    "\n",
    "-- Para que un vehículo avance con una velocidad vel_a:\n",
    "function Avanzar(vel_a)\n",
    "    Desplazar(vel_a, 0) -- solo avanza, no gira\n",
    "end\n",
    "\n",
    "-- Para girar a una velocidad fija:\n",
    "function Girar(vel_g)\n",
    "    Desplazar(0, vel_g)\n",
    "end\n",
    "\n",
    "-- Donde\n",
    "-- Mueve el vehículo con las velocidades de avance (lineal) y de giro (angular) solicitadas \n",
    "function Desplazar(v,w)\n",
    "    -- Calcula lo que necesita \"pedírsele\" a los motores para \n",
    "    -- avanzar con velocidad lineal (v) y girar con velocidad angular (w)\n",
    "\n",
    "    -- Si el vehículo tiene configuracion diferencial:\n",
    "    Velocidad_Diferencial(v,w)\n",
    "    -- Si fuera un triciclo, se llamara a \n",
    "    -- Velocidad_Triciclo(v,w)\n",
    "end\n",
    "\n",
    "-- Entonces\n",
    "function Velocidad_Diferencial(v, w):\n",
    "    -- Calcula las velocidades de cada rueda acorde a dimensiones físicas\n",
    "    vel_izq, vel_der = f(v,w, L_base, R_rueda)\n",
    "\n",
    "    -- Envia las velocidades a cada motor\n",
    "    MotorIzq(vel_izq)\n",
    "    MotorDer(vel_der)\n",
    "end\n",
    "\n",
    "-- Pero segun el vehículo, pudiera tener que usarse otra como:\n",
    "function Velocidad_Triciclo(v,w):\n",
    "    -- Calcula las velocidades de manera acorde\n",
    "    vel_ruedas, ang_timon = f(v,w, L_base, R_rueda, D_delantero)\n",
    "\n",
    "    -- Envia las velocidades a cada motor\n",
    "    Motor_Tracción(vel_ruedas)\n",
    "    Posicion_Timon(ang_timon) -- Asumiendo Servo\n",
    "end\n",
    "\n",
    "-- Continuando la abstracción: el \"motor\" derecho \n",
    "-- puede que en realidad sea varias articulaciones funcionando juntas\n",
    "function MotorDer(w):\n",
    "    -- Asigna un tercio de la velocidad angular solicitada a las articulaciones.\n",
    "    sim.setJointTargetVelocity(motor1a, w/3)\n",
    "    sim.setJointTargetVelocity(motor1b, w/3)\n",
    "    sim.setJointTargetVelocity(motor1c, w/3)\n",
    "\n",
    "```\n",
    "\n"
   ],
   "cell_type": "markdown",
   "metadata": {}
  },
  {
   "source": [
    "Siguiendo este ejemplo, las tareas que utiliza las funciones para desplazar el vehículo no se ven directamente afectadas por la implementación del hardware en el vehículo (configuración de motores, etc.)"
   ],
   "cell_type": "markdown",
   "metadata": {}
  },
  {
   "source": [
    "En este caso, se asumirá que los vehículos no pueden medir la velocidad que llevan, por lo que en vez de usar términos de velocidad, esta se representará como un *porcentaje* de una velocidad máxima guardada como una CONSTANTE en el programa para su uso interno al calcular la velocidad que se le enviará a la articulación en el simulador. \n",
    "\n",
    "Esto quiere decir que en el código todos los valores referidos a velocidades se presentarán como un valor entre $[-1.0, 1.0]$ en representación de un porcentaje de la velocidad máxima que puede alcanzar el vehículo, los motores, etc. Las únicas funciones que pudieran usar velocidades directamente (e.g.: en m/s o rad/s) serían las que directamente envían el comando a la articulación (e.g.: `MotorDer()` arriba), y posiblemente las que calculan las velocidades particulares según la configuración del vehículo (como `Velocidad_Triciclo()` arriba), que pudieran tener que poner límites. "
   ],
   "cell_type": "markdown",
   "metadata": {}
  },
  {
   "source": [
    "\n",
    "Las funciones mínimas a implementar se muestran abajo. En estas, el término `v_pc` o `w_pc` representan un porcentaje de velocidad lineal ($v$) o velocidad angular ($\\omega$), ya sea del robot o del eje de un rotor (motor/articulación). \n",
    "### Básicas"
   ],
   "cell_type": "markdown",
   "metadata": {}
  },
  {
   "source": [
    "Las relacionadas a los motores, por ejemplo:\n",
    "- `MotorDer(w_pc)`\n",
    "- `MotorIzq(w_pc)`\n",
    "- `VelocidadDiferencial(v_pc, w_pc)`\n",
    "- `Desplazar(v_pc, w_pc)`\n",
    "    - Ver comentario en ejemplo arriba\n",
    "- `Avanzar(v_pc)`\n",
    "- `Girar(w_pc)`\n",
    "- `PosicionServo(ang)`\n",
    "    - Usaría `sim.setJointTargetPosition()`\n",
    "- `SubirBrazo()`\n",
    "    - Sube (rota) el brazo del robot hasta su punto de Abierto.\n",
    "- `BajarBrazo()`\n",
    "    - Baja (rota) el brazo del robot hasta su punto de cerrado."
   ],
   "cell_type": "markdown",
   "metadata": {}
  },
  {
   "source": [
    "Las relacionadas a los sensores, por ejemplo:\n",
    "- `LeerPresencia(sensor)`:\n",
    "    - Produce un booleano si es detectado algo con un sensor de proximidad\n",
    "- `LeerProximidad(sensor)`:\n",
    "    - devuelve la lectura de proximidad\n",
    "- `LeerLuz(sensor)`:\n",
    "    - Devuelve la lectura de Intensidad promedio de un sensor de visión\n",
    "- `LeerColor(sensor)`:\n",
    "    - Devuelve el valor promedio de {R,G,B} de un sensor de visión\n",
    "- `LeerImagen(sensor)`:\n",
    "    - Devuelve la tabla con la imagen extraída de un sensor de visión\n",
    "\n",
    "Las de utilidad para hacer conversiones, si son necesarias, como:\n",
    "- `grados_a_radianes(grd)`"
   ],
   "cell_type": "markdown",
   "metadata": {}
  },
  {
   "source": [
    "### Esenciales\n",
    "\n",
    "Las relacionadas al seteo del script y preparar todo:\n",
    "- `Inicializar()`\n",
    "    - Se llamaría en `sysCall_init()` y declara todas las variables _globales_ que se usarían en las demás funciones (como dimensiones, máximos, ganancias, etc.).\n",
    "- `Limpiar()`\n",
    "    - Si es necesario.\n",
    "    - Se llamaría en el `sysCall_cleanup()` al finalizar una simulación."
   ],
   "cell_type": "markdown",
   "metadata": {}
  },
  {
   "source": [
    "### Detalles\n",
    "\n",
    "El documento con las funciones solo debería tener funciones básicas y variables que el usuario pueda llamar dentro de `sysCall_actuation()` o `sysCall_sensing()` desde su script en CoppeliaSim.\n",
    "\n",
    "Todas las variables definidas en `Inicializar()` son _globales_ y estarán disponibles para el resto del script. Si el usuario necesita sobre escribirlas, pudiera hacerlo dentro de `sysCall_init()` después que se llame a `Inicializar()`. Todas las variables definidas dentro de las funciones estarán declaradas como _locales_  usando el indicador `local` al declararlas. Por ejemplo:\n",
    "\n",
    "```Lua \n",
    "function Velocidad_Diferencial(v, w):\n",
    "    -- Calcula las velocidades de cada rueda acorde a dimensiones físicas\n",
    "    local vel_izq, vel_der = f(v,w, L_base, R_rueda)\n",
    "\n",
    "    -- Envia las velocidades a cada motor\n",
    "    MotorIzq(vel_izq)\n",
    "    MotorDer(vel_der)\n",
    "end\n",
    "```\n",
    "\n",
    "De forma similar, las funciones como `MotorXXX` y `Desplazar` serán preparadas en base al robot provisto y estarán definidas en este archivo, pero pudieran ser sobreescritas por el usuario después de importar el archivo.\n",
    "\n",
    "Para poder tener acceso a los resultados de cada una de las funciones, ya que las variables internas serían locales, cada función debe devolver cualquier valor relevante calculado internamente."
   ],
   "cell_type": "markdown",
   "metadata": {}
  },
  {
   "source": [
    "## Ejemplos \n",
    "\n",
    "En una carpeta aparte, llamada _Ejemplos_, estarán los documentos (scripts, escenas, modelos) para los siguientes ejemplos donde el robot: \n",
    "\n",
    "1. Se mueve hasta detectar algo oscuro en el piso.\n",
    "2. Se mueve hasta una línea en el piso. \n",
    "3. Se mueve hasta cruzar X cantidad de líneas.\n",
    "4. Se mueve hasta alcanzar la línea de X color entre varias otras.\n",
    "5. Avanza hasta encontrarse a una distancia X de un objeto al frente.\n",
    "6. Gira hasta detectar un objeto (al frente).\n",
    "7. Gira en arcos ($v>0, \\omega>0$) hasta detectar un objeto.\n",
    "\n",
    "Idealmente, se pudiera utilizar una misma escena para varios de los ejemplos (o todos), y se puede cambiar entre ellos llamando diferentes funciones, o importando diferentes archivos."
   ],
   "cell_type": "markdown",
   "metadata": {}
  },
  {
   "source": [
    "## Misiones\n",
    "\n",
    "\n",
    "Se prepararán dos (2) ejemplos funcionales en una carpeta llamada _Misiones_ que presentarán un vehículo haciendo algún tipo de misión usando las funciones disponibles. \n",
    "\n",
    "Las misiones son:\n",
    "\n",
    "1. Luego de esperar 5 segundos, el robot se mueve para encontrar un objeto en la pista y se \"alinea\" con un anillo \"pintado\" en el piso que rodea el objeto desde alguna distancia. Una vez esté alineado, el vehículo avanza hasta el objeto y lo sujeta.\n",
    "\n",
    "2. Luego de esperar 5 segundos, el robot busca, entre 4 objetos que se les presentan, un objeto de color X y lo intenta sujetar. Los 4 objetos estarían distribuidos alrededor del vehículo a una distancia arbitraria."
   ],
   "cell_type": "markdown",
   "metadata": {}
  },
  {
   "source": [
    "## Recursos\n",
    "\n",
    "Se usarán los recuros en el repositorio de [https://github.com/iejim/hands-on-sim] en Github. En este se encuentra: \n",
    "\n",
    "1. Un ROVER básico con sensores para las funciones propuestas (en la Escena)\n",
    "2. Una Pista para ROVER 2021 que puede servir de base (el tamaño de las cajas es más pequeño que lo regulatorio)  (en la Escena).\n",
    "3. Un script `Rover21Src.lua` con las funciones para controlar el ROVER.\n",
    "4. Un script `cam_thread.lua` con un procesamiento básico de imágenes para identificar objetos de colores.\n",
    "5. Este archivo como un Jupyter Notebook (legible con Visual Studio Code).\n",
    "\n",
    "\n",
    "El Robot es un robot diferencial (dos ruedas independientes) con una rueda loca. Cuenta con:\n",
    "\n",
    "- Un motor independiente para cada rueda.\n",
    "- Una rueda loca para balancear el robot, sin fricción.\n",
    "- Tres sensores de línea capaces de ver color.\n",
    "- Un sensor de color para detectar el color de una caja en su control.\n",
    "- Un sensor de proximidad para encontrar objetos frente al robot.\n",
    "- Una cámara con su propio procesamiento de imágen.\n",
    "- Un brazo controlado por un servo."
   ],
   "cell_type": "markdown",
   "metadata": {}
  },
  {
   "cell_type": "code",
   "execution_count": null,
   "metadata": {},
   "outputs": [],
   "source": []
  }
 ]
}